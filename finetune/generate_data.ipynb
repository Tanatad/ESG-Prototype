{
 "cells": [
  {
   "cell_type": "code",
   "execution_count": 1,
   "metadata": {},
   "outputs": [],
   "source": [
    "import sys\n",
    "import os\n",
    "from dotenv import load_dotenv\n",
    "from langchain_core.documents import Document\n",
    "from typing import List\n",
    "load_dotenv()\n",
    "\n",
    "# Get the path to the project root dynamically\n",
    "project_root = os.path.abspath(os.path.join(os.getcwd(), '..'))\n",
    "sys.path.append(project_root)"
   ]
  },
  {
   "cell_type": "code",
   "execution_count": 2,
   "metadata": {},
   "outputs": [],
   "source": [
    "from finetune.finetune_service import FinetuneService"
   ]
  },
  {
   "cell_type": "code",
   "execution_count": null,
   "metadata": {},
   "outputs": [],
   "source": [
    "finetune_service = FinetuneService()\n",
    "\n",
    "folder_path = \"../test_pdf\"\n",
    "save_path = \"../for_finetune\"\n",
    "await finetune_service.flow_generate_train_data(folder_path, save_path)"
   ]
  },
  {
   "cell_type": "code",
   "execution_count": null,
   "metadata": {},
   "outputs": [
    {
     "name": "stdout",
     "output_type": "stream",
     "text": [
      "Successfully merged files into ./esg_qa.jsonl\n"
     ]
    }
   ],
   "source": [
    "#if success all and then merge jsonl files and save to save_path\n",
    "save_final_path = \"./esg_qa.jsonl\"\n",
    "folder_path = save_path\n",
    "await finetune_service.merge_jsonl_files(folder_path, save_final_path)"
   ]
  }
 ],
 "metadata": {
  "kernelspec": {
   "display_name": ".venv",
   "language": "python",
   "name": "python3"
  },
  "language_info": {
   "codemirror_mode": {
    "name": "ipython",
    "version": 3
   },
   "file_extension": ".py",
   "mimetype": "text/x-python",
   "name": "python",
   "nbconvert_exporter": "python",
   "pygments_lexer": "ipython3",
   "version": "3.12.7"
  }
 },
 "nbformat": 4,
 "nbformat_minor": 2
}
