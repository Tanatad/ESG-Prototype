{
 "cells": [
  {
   "cell_type": "code",
   "execution_count": 1,
   "metadata": {},
   "outputs": [],
   "source": [
    "import os\n",
    "import json\n",
    "from openai import OpenAI\n",
    "\n",
    "available_models = [\n",
    "    # Data from 15 Nov 2024\n",
    "    \"gpt-4o-2024-08-06\",\n",
    "    \"gpt-4o-mini-2024-07-18\",\n",
    "    \"gpt-4-0613\",\n",
    "    \"gpt-3.5-turbo-0125\",\n",
    "    \"gpt-3.5-turbo-1106\",\n",
    "    \"gpt-3.5-turbo-0613\",\n",
    "]\n",
    "\n",
    "class FineTuning:\n",
    "    def __init__(self, model: str = \"gpt-4o-mini-2024-07-18\", fine_tune_history: str = \"fine_tune_history.json\"):\n",
    "        if model not in available_models:\n",
    "            raise ValueError(f\"Model {model} not available\")\n",
    "        self.client = OpenAI()\n",
    "        self.fine_tune_history = fine_tune_history\n",
    "        self.model = model\n",
    "        self.job_id = None\n",
    "    \n",
    "    def update_history(self, response: dict):\n",
    "        current = []\n",
    "        if os.path.exists(self.fine_tune_history):\n",
    "            with open(self.fine_tune_history, \"r\") as f:\n",
    "                current = json.load(f)\n",
    "        with open(self.fine_tune_history, \"w\") as f:\n",
    "            current.append(response)\n",
    "            json.dump(current, f, indent=4)\n",
    "            \n",
    "    def edit_lastest_history(self, response: dict):\n",
    "        current = []\n",
    "        if os.path.exists(self.fine_tune_history):\n",
    "            with open(self.fine_tune_history, \"r\") as f:\n",
    "                current = json.load(f)\n",
    "        with open(self.fine_tune_history, \"w\") as f:\n",
    "            current[-1] = response\n",
    "            json.dump(current, f, indent=4)\n",
    "        \n",
    "    def get_job_id(self):\n",
    "        if self.job_id is None:\n",
    "            with open(self.fine_tune_history, \"r\") as f:\n",
    "                history = json.load(f)\n",
    "                self.job_id = history[-1][\"id\"]\n",
    "        return self.job_id\n",
    "\n",
    "    def upload_file(self, file_path: str):\n",
    "        if not os.path.exists(file_path):\n",
    "            raise FileNotFoundError(f\"File {file_path} not found\")\n",
    "        if file_path.split(\".\")[-1] != \"jsonl\":\n",
    "            raise ValueError(\"File must be a jsonl file\")\n",
    "        file = self.client.files.create(\n",
    "            file=open(file_path, \"rb\"),\n",
    "            purpose=\"fine-tune\"\n",
    "        )\n",
    "        return file\n",
    "    \n",
    "    def fine_tuning(self, file_id: str, suffix: str, hyperparameters: dict):\n",
    "        response = self.client.fine_tuning.jobs.create(\n",
    "            training_file=file_id,\n",
    "            model=self.model,\n",
    "            suffix=suffix,\n",
    "            hyperparameters=hyperparameters\n",
    "        )\n",
    "        self.update_history(response.model_dump())\n",
    "        self.job_id = response.id\n",
    "        return response\n",
    "    \n",
    "    def retrieve_job(self, job_id: str = None):\n",
    "        # job_id Priority\n",
    "        # 1. job_id provided in the function\n",
    "        # 2. self.job_id\n",
    "        # 3. latest job_id from history\n",
    "        if job_id is None:\n",
    "            job_id = self.get_job_id()\n",
    "        job = self.client.fine_tuning.jobs.retrieve(job_id)\n",
    "        return job\n",
    "    \n",
    "    def flow(self, file_path: str = None, file_id: str = None, fine_tune_model_name: str = None, hyperparameters: dict = {}):\n",
    "        if file_path is None and file_id is None:\n",
    "            raise ValueError(\"File path or file id must be provided\")\n",
    "        # File id Priority\n",
    "        # 1. file_id of the uploaded file by file_path\n",
    "        # 2. file_id provided in the function\n",
    "        if file_path is not None:\n",
    "            file = self.upload_file(file_path)\n",
    "            file_id = file.id\n",
    "            print(f\"File uploaded: {file_id}\")\n",
    "        elif file_id is not None:\n",
    "            print(f\"File ID provided: {file_id}\")\n",
    "        if file_id is None:\n",
    "            raise ValueError(\"File ID not found\")\n",
    "        \n",
    "        fine_tune_job = self.fine_tuning(file_id, fine_tune_model_name, hyperparameters)\n",
    "        print(f\"Fine tuning job started: {fine_tune_job.id}\")\n",
    "        print(\"Fine tuning job will take some time to complete\")\n",
    "\n",
    "    def is_fine_tuning_complete(self, job_id: str = None):\n",
    "        job = self.retrieve_job(job_id)\n",
    "        is_succeeded = job.status == \"succeeded\"\n",
    "        if is_succeeded:\n",
    "            self.edit_lastest_history(job.model_dump())\n",
    "        return is_succeeded\n",
    "    \n",
    "    def send_message(self, message: str, prompt: str = \"Marv is a factual chatbot that is also sarcastic.\", job_id: str = None):\n",
    "        job = self.retrieve_job(job_id)\n",
    "        if job.status == \"succeeded\":\n",
    "            completion = self.client.chat.completions.create(\n",
    "                model=job.fine_tuned_model,\n",
    "                messages=[\n",
    "                    {\"role\": \"system\", \"content\": prompt},\n",
    "                    {\"role\": \"user\", \"content\": message},\n",
    "                ]\n",
    "            )\n",
    "            return completion.choices[0].message.content\n",
    "        else:\n",
    "            print(\"Fine tuning job is still in progress\")\n",
    "            \n",
    "    def delete_file(self, file_id: str):\n",
    "        self.client.files.delete(file_id)\n",
    "        print(f\"File {file_id} deleted\")\n",
    "    \n",
    "    def delete_model(self, job_id: str = None, model_id: str = None):\n",
    "        if job_id is None and model_id is None:\n",
    "            raise ValueError(\"Job ID or Model ID must be provided\")\n",
    "        if model_id is None:  \n",
    "            model_id = self.retrieve_job(job_id).fine_tuned_model\n",
    "        self.client.models.delete(model_id)\n",
    "        print(f\"Model {model_id} deleted\")"
   ]
  },
  {
   "cell_type": "code",
   "execution_count": 86,
   "metadata": {},
   "outputs": [
    {
     "name": "stdout",
     "output_type": "stream",
     "text": [
      "File uploaded: file-OIFG9BbLroy85SbiFEzw9Iod\n",
      "Fine tuning job started: ftjob-YXOm6rv6BJ0vP2gl7IXfQBXo\n",
      "Fine tuning job will take some time to complete\n"
     ]
    }
   ],
   "source": [
    "# Documentation:    https://platform.openai.com/docs/guides/fine-tuning\n",
    "# Fine-tuning:      https://platform.openai.com/finetune/ftjob-jYdchmMHbe1BavIxxujkzzqb?filter=all\n",
    "# Storage:          https://platform.openai.com/storage\n",
    "\n",
    "fine_tune = FineTuning(\n",
    "    model=\"gpt-4o-mini-2024-07-18\",\n",
    ")\n",
    "\n",
    "fine_tune.flow(\n",
    "    file_path=\"esg_qa.jsonl\",\n",
    "    )"
   ]
  },
  {
   "cell_type": "code",
   "execution_count": 6,
   "metadata": {},
   "outputs": [
    {
     "data": {
      "text/plain": [
       "True"
      ]
     },
     "execution_count": 6,
     "metadata": {},
     "output_type": "execute_result"
    }
   ],
   "source": [
    "fine_tune.is_fine_tuning_complete(\n",
    "    job_id=\"ftjob-YXOm6rv6BJ0vP2gl7IXfQBXo\"\n",
    ")"
   ]
  },
  {
   "cell_type": "code",
   "execution_count": 7,
   "metadata": {},
   "outputs": [
    {
     "data": {
      "text/plain": [
       "'Emission reduction can occur through improved technology, efficient processes, carbon capture and storage, transitioning to renewable energy, and regulatory compliance.'"
      ]
     },
     "execution_count": 7,
     "metadata": {},
     "output_type": "execute_result"
    }
   ],
   "source": [
    "fine_tune.send_message(\n",
    "    message=\"How reduce emission gas?\",\n",
    "    )"
   ]
  },
  {
   "cell_type": "code",
   "execution_count": null,
   "metadata": {},
   "outputs": [],
   "source": [
    "# Show-case"
   ]
  },
  {
   "cell_type": "code",
   "execution_count": null,
   "metadata": {},
   "outputs": [
    {
     "name": "stdout",
     "output_type": "stream",
     "text": [
      "File uploaded: file-8Js66iO1sRwp4P96tQJsfcMl\n",
      "Fine tuning job started: ftjob-sMt0WnlUTQVVmSEHnGSim7nA\n",
      "Fine tuning job will take some time to complete\n"
     ]
    }
   ],
   "source": [
    "# 8 mins\n",
    "\n",
    "fine_tune = FineTuning(\n",
    "    model=\"gpt-4o-mini-2024-07-18\",\n",
    ")\n",
    "\n",
    "fine_tune.flow(\n",
    "    file_path=\"mydata.jsonl\",\n",
    "    # file_id=None,\n",
    "    fine_tune_model_name=\"show-case-2\",\n",
    "    # hyperparameters={\n",
    "        # \"n_epochs\": 10,\n",
    "        # \"batch_size\": 2,\n",
    "        # \"learning_rate_multiplier\": 1.9\n",
    "    # }\n",
    ")"
   ]
  },
  {
   "cell_type": "code",
   "execution_count": 4,
   "metadata": {},
   "outputs": [
    {
     "data": {
      "text/plain": [
       "True"
      ]
     },
     "execution_count": 4,
     "metadata": {},
     "output_type": "execute_result"
    }
   ],
   "source": [
    "fine_tune.is_fine_tuning_complete()"
   ]
  },
  {
   "cell_type": "code",
   "execution_count": 5,
   "metadata": {},
   "outputs": [
    {
     "data": {
      "text/plain": [
       "'The capital of France is Paris. Just the most romantic city in the world, no big deal.'"
      ]
     },
     "execution_count": 5,
     "metadata": {},
     "output_type": "execute_result"
    }
   ],
   "source": [
    "fine_tune.send_message(\n",
    "    message=\"What is the capital of France?\",\n",
    "    prompt=\"Marv is a factual chatbot that is also sarcastic.\"\n",
    ")"
   ]
  },
  {
   "cell_type": "code",
   "execution_count": null,
   "metadata": {},
   "outputs": [],
   "source": [
    "# Below code is an example of using optional parameters"
   ]
  },
  {
   "cell_type": "code",
   "execution_count": null,
   "metadata": {},
   "outputs": [
    {
     "name": "stdout",
     "output_type": "stream",
     "text": [
      "File ID provided: file-zMib0bA0pl6pcPP1sPnULEWY\n",
      "Fine tuning job started: ftjob-jYdchmMHbe1BavIxxujkzzqb\n",
      "Fine tuning job will take some time to complete\n",
      "You can check the status of the job using fine_tune_response.id\n",
      "Once the job is completed, you can retrieve the fine-tuned model using fine_tune_response.fine_tuned_model\n",
      "You can chat with the fine-tuned model using the chat method\n"
     ]
    }
   ],
   "source": [
    "fine_tune = FineTuning(\n",
    "    model=\"gpt-4o-mini-2024-07-18\",\n",
    ")\n",
    "\n",
    "fine_tune.flow(\n",
    "    file_path=None,\n",
    "    file_id=\"file-gTAAx6K2wGd8d3SV1O8NT9UP\",\n",
    "    fine_tune_model_name=\"second_fine_tune\",\n",
    "    hyperparameters={\n",
    "        \"n_epochs\": 10,\n",
    "        \"batch_size\": 2,\n",
    "        \"learning_rate_multiplier\": 1.9\n",
    "        }\n",
    "    )"
   ]
  },
  {
   "cell_type": "code",
   "execution_count": 69,
   "metadata": {},
   "outputs": [
    {
     "data": {
      "text/plain": [
       "True"
      ]
     },
     "execution_count": 69,
     "metadata": {},
     "output_type": "execute_result"
    }
   ],
   "source": [
    "fine_tune.is_fine_tuning_complete(\n",
    "    job_id=None\n",
    ")"
   ]
  },
  {
   "cell_type": "code",
   "execution_count": null,
   "metadata": {},
   "outputs": [
    {
     "data": {
      "text/plain": [
       "'There are seven continents. Just a few landmasses floating around, you know.'"
      ]
     },
     "execution_count": 60,
     "metadata": {},
     "output_type": "execute_result"
    }
   ],
   "source": [
    "fine_tune.send_message(\n",
    "    message=\"How many continents are there?\",\n",
    "    job_id=None\n",
    "    )"
   ]
  },
  {
   "cell_type": "code",
   "execution_count": null,
   "metadata": {},
   "outputs": [
    {
     "name": "stdout",
     "output_type": "stream",
     "text": [
      "Model ft:gpt-4o-mini-2024-07-18:personal:test-2:ATis1TV0 deleted\n"
     ]
    }
   ],
   "source": [
    "# fine_tune = FineTuning()\n",
    "\n",
    "# fine_tune.delete_model(\n",
    "#     # job_id=\"ftjob-jYdchmMHbe1BavIxxujkzzqb\",\n",
    "#     model_id=\"ft:gpt-4o-mini-2024-07-18:personal:test-2:ATis1TV0\"\n",
    "# )"
   ]
  }
 ],
 "metadata": {
  "kernelspec": {
   "display_name": ".venv",
   "language": "python",
   "name": "python3"
  },
  "language_info": {
   "codemirror_mode": {
    "name": "ipython",
    "version": 3
   },
   "file_extension": ".py",
   "mimetype": "text/x-python",
   "name": "python",
   "nbconvert_exporter": "python",
   "pygments_lexer": "ipython3",
   "version": "3.12.7"
  }
 },
 "nbformat": 4,
 "nbformat_minor": 2
}
