{
 "cells": [
  {
   "cell_type": "code",
   "execution_count": 1,
   "metadata": {},
   "outputs": [],
   "source": [
    "import sys\n",
    "import os\n",
    "\n",
    "# Get the path to the project root dynamically\n",
    "project_root = os.path.abspath(os.path.join(os.getcwd(), '../..'))\n",
    "sys.path.append(project_root)"
   ]
  },
  {
   "cell_type": "code",
   "execution_count": 2,
   "metadata": {},
   "outputs": [
    {
     "name": "stderr",
     "output_type": "stream",
     "text": [
      "/Users/phoom/Documents/Fastwork/ESG-LLM-finetune-and-Graph-RAG/app/services/rate_limit.py:6: LangChainBetaWarning: Introduced in 0.2.24. API subject to change.\n",
      "  llm_rate_limiter = InMemoryRateLimiter(\n"
     ]
    },
    {
     "name": "stdout",
     "output_type": "stream",
     "text": [
      "Vector index 'vector' initialized successfully.\n",
      "Reinitialized vector store with index 'vector' successfully.\n"
     ]
    }
   ],
   "source": [
    "from scale_test_service import ScaleTestService\n",
    "\n",
    "test_service = ScaleTestService()"
   ]
  },
  {
   "cell_type": "code",
   "execution_count": null,
   "metadata": {},
   "outputs": [
    {
     "name": "stderr",
     "output_type": "stream",
     "text": [
      "/Users/phoom/Documents/Fastwork/ESG-LLM-finetune-and-Graph-RAG/.venv/lib/python3.12/site-packages/tqdm/auto.py:21: TqdmWarning: IProgress not found. Please update jupyter and ipywidgets. See https://ipywidgets.readthedocs.io/en/stable/user_install.html\n",
      "  from .autonotebook import tqdm as notebook_tqdm\n",
      "INFO: pikepdf C++ to Python logger bridge initialized\n"
     ]
    },
    {
     "name": "stdout",
     "output_type": "stream",
     "text": [
      "{'step_0': 791, 'step_1': 756, 'step_2': 810, 'step_3': 842, 'step_4': 871, 'step_5': 1094, 'step_6': 969, 'step_7': 738, 'step_8': 760, 'step_9': 387}\n"
     ]
    },
    {
     "name": "stderr",
     "output_type": "stream",
     "text": [
      "INFO: HTTP Request: POST https://api.openai.com/v1/chat/completions \"HTTP/1.1 200 OK\"\n",
      "INFO: HTTP Request: POST https://api.openai.com/v1/chat/completions \"HTTP/1.1 200 OK\"\n",
      "INFO: HTTP Request: POST https://api.openai.com/v1/chat/completions \"HTTP/1.1 200 OK\"\n",
      "INFO: HTTP Request: POST https://api.openai.com/v1/chat/completions \"HTTP/1.1 200 OK\"\n",
      "INFO: HTTP Request: POST https://api.openai.com/v1/chat/completions \"HTTP/1.1 200 OK\"\n",
      "INFO: HTTP Request: POST https://api.openai.com/v1/chat/completions \"HTTP/1.1 200 OK\"\n",
      "INFO: HTTP Request: POST https://api.openai.com/v1/chat/completions \"HTTP/1.1 200 OK\"\n",
      "INFO: HTTP Request: POST https://api.openai.com/v1/chat/completions \"HTTP/1.1 200 OK\"\n",
      "INFO: HTTP Request: POST https://api.openai.com/v1/chat/completions \"HTTP/1.1 200 OK\"\n",
      "INFO: HTTP Request: POST https://api.openai.com/v1/chat/completions \"HTTP/1.1 200 OK\"\n"
     ]
    }
   ],
   "source": [
    "dataset_path = \"./dataset\"\n",
    "\n",
    "new_chunk, graph_doc = await test_service.generate_docs_and_graph_docs(dataset_path, target_chunks=20)"
   ]
  },
  {
   "cell_type": "code",
   "execution_count": 4,
   "metadata": {},
   "outputs": [
    {
     "name": "stdout",
     "output_type": "stream",
     "text": [
      "step_0 1\n",
      "step_1 1\n",
      "step_2 1\n",
      "step_3 1\n",
      "step_4 1\n",
      "step_5 1\n",
      "step_6 1\n",
      "step_7 1\n",
      "step_8 1\n",
      "step_9 1\n"
     ]
    }
   ],
   "source": [
    "for k, v in new_chunk.items():\n",
    "    print(k, len(v))"
   ]
  },
  {
   "cell_type": "code",
   "execution_count": null,
   "metadata": {},
   "outputs": [],
   "source": [
    "import json\n",
    "\n",
    "document_path = \"./docs.json\"\n",
    "graph_docs_path = \"./graph_docs.json\"\n",
    "\n",
    "with open(document_path, \"w\") as f:\n",
    "    f.write(json.dumps(new_chunk, indent=4))\n",
    "\n",
    "with open(graph_docs_path, \"w\") as f:\n",
    "    f.write(json.dumps(graph_doc, indent=4))"
   ]
  }
 ],
 "metadata": {
  "kernelspec": {
   "display_name": ".venv",
   "language": "python",
   "name": "python3"
  },
  "language_info": {
   "codemirror_mode": {
    "name": "ipython",
    "version": 3
   },
   "file_extension": ".py",
   "mimetype": "text/x-python",
   "name": "python",
   "nbconvert_exporter": "python",
   "pygments_lexer": "ipython3",
   "version": "3.12.7"
  }
 },
 "nbformat": 4,
 "nbformat_minor": 2
}
